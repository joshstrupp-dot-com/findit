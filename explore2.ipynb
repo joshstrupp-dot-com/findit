{
 "cells": [
  {
   "cell_type": "code",
   "execution_count": 1,
   "metadata": {},
   "outputs": [
    {
     "name": "stdout",
     "output_type": "stream",
     "text": [
      "File size: 396.44 MB\n",
      "\n",
      "Columns:\n",
      "['review_text', 'name', 'author_clean', 'star_rating', 'negative', 'neutral', 'positive', 'compound', 'sentiment', 'predicted_label', 'confidence_score']\n",
      "\n",
      "Number of records missing predicted_label: 96251\n"
     ]
    },
    {
     "name": "stderr",
     "output_type": "stream",
     "text": [
      "/var/folders/pc/j_zmpc9s0g9frv2jzfv1l51c0000gn/T/ipykernel_68924/3255388484.py:4: DtypeWarning: Columns (9) have mixed types. Specify dtype option on import or set low_memory=False.\n",
      "  df = pd.read_csv('zeroshot_analysis_results.csv')\n"
     ]
    }
   ],
   "source": [
    "import pandas as pd\n",
    "\n",
    "# Read the CSV file\n",
    "df = pd.read_csv('zeroshot_analysis_results.csv')\n",
    "\n",
    "# Print file size in MB\n",
    "file_size_mb = df.memory_usage(deep=True).sum() / (1024 * 1024)\n",
    "print(f\"File size: {file_size_mb:.2f} MB\")\n",
    "\n",
    "# Print column names\n",
    "print(\"\\nColumns:\")\n",
    "print(df.columns.tolist())\n",
    "\n",
    "# Count records with missing predicted_label\n",
    "missing_labels = df['predicted_label'].isna().sum()\n",
    "print(f\"\\nNumber of records missing predicted_label: {missing_labels}\")\n",
    "\n"
   ]
  },
  {
   "cell_type": "code",
   "execution_count": 2,
   "metadata": {},
   "outputs": [
    {
     "name": "stdout",
     "output_type": "stream",
     "text": [
      "File size after dropping missing labels: 277.37 MB\n"
     ]
    }
   ],
   "source": [
    "# Drop rows with missing predicted_label\n",
    "df = df.dropna(subset=['predicted_label'])\n",
    "\n",
    "# Print updated file size in MB\n",
    "file_size_mb = df.memory_usage(deep=True).sum() / (1024 * 1024)\n",
    "print(f\"File size after dropping missing labels: {file_size_mb:.2f} MB\")\n"
   ]
  },
  {
   "cell_type": "code",
   "execution_count": 3,
   "metadata": {},
   "outputs": [
    {
     "name": "stdout",
     "output_type": "stream",
     "text": [
      "File size after dropping columns: 269.01 MB\n"
     ]
    }
   ],
   "source": [
    "# Drop specified columns\n",
    "cols_to_drop = ['star_rating', 'negative', 'neutral', 'positive', 'compound', 'confidence_score']\n",
    "df = df.drop(columns=cols_to_drop)\n",
    "\n",
    "# Print updated file size in MB\n",
    "file_size_mb = df.memory_usage(deep=True).sum() / (1024 * 1024)\n",
    "print(f\"File size after dropping columns: {file_size_mb:.2f} MB\")\n"
   ]
  },
  {
   "cell_type": "code",
   "execution_count": 4,
   "metadata": {},
   "outputs": [
    {
     "name": "stdout",
     "output_type": "stream",
     "text": [
      "File saved successfully\n"
     ]
    }
   ],
   "source": [
    "# Save the processed DataFrame to CSV\n",
    "df.to_csv('zeroshot_analysis_results.csv', index=False)\n",
    "print(\"File saved successfully\")\n"
   ]
  }
 ],
 "metadata": {
  "kernelspec": {
   "display_name": "my_env",
   "language": "python",
   "name": "my_env"
  },
  "language_info": {
   "codemirror_mode": {
    "name": "ipython",
    "version": 3
   },
   "file_extension": ".py",
   "mimetype": "text/x-python",
   "name": "python",
   "nbconvert_exporter": "python",
   "pygments_lexer": "ipython3",
   "version": "3.12.4"
  }
 },
 "nbformat": 4,
 "nbformat_minor": 2
}
